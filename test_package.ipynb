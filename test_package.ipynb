{
 "cells": [
  {
   "cell_type": "markdown",
   "metadata": {},
   "source": [
    "## This file demonstrates how to use the 'potterworld' package"
   ]
  },
  {
   "cell_type": "code",
   "execution_count": 1,
   "metadata": {},
   "outputs": [
    {
     "name": "stdout",
     "output_type": "stream",
     "text": [
      "Thank you for your interest in the potter world!\n",
      "Please start by sending in your application to Hogwarts magic school by following the example below - use your name instead of John\n",
      " \n",
      "me = Wizard(\"John\")\n",
      " \n"
     ]
    }
   ],
   "source": [
    "from potterworld import * # import potterworld package"
   ]
  },
  {
   "cell_type": "code",
   "execution_count": 2,
   "metadata": {},
   "outputs": [
    {
     "name": "stdout",
     "output_type": "stream",
     "text": [
      "##########################################\n",
      "    Welcome to the magic world, Batman   \n",
      "##########################################\n",
      " \n",
      "Go to gringotts bank to convert your Canadian dollars to wizard currencies.\n",
      "Example: my.gringotts(1400)\n",
      " \n"
     ]
    }
   ],
   "source": [
    "my = Wizard(\"Batman\") # Wizard initiation"
   ]
  },
  {
   "cell_type": "code",
   "execution_count": 3,
   "metadata": {},
   "outputs": [
    {
     "name": "stdout",
     "output_type": "stream",
     "text": [
      "Currency exchange completed.\n",
      "You currently have 8 Golden Galleons, 1 Silver Sickles, and 27 Bronze Knuts.\n",
      " \n",
      "Now it's time to buy yourself a wand to learn and perform magic spells!\n",
      "Example: my.get_wand()\n",
      " \n"
     ]
    }
   ],
   "source": [
    "my.gringotts(2000) # exchange your currency with wizard currency"
   ]
  },
  {
   "cell_type": "code",
   "execution_count": 4,
   "metadata": {},
   "outputs": [
    {
     "name": "stdout",
     "output_type": "stream",
     "text": [
      "Your updated currency balance is 7 Golden Galleons, 1 Silver Sickles, and 27 Bronze Knuts.\n",
      " \n",
      "You now have a magical wand!\n",
      "It's wood type is Red Oak, core is made of Dragon Heart String, and it's length is 10 inches.\n",
      " \n",
      "Now it's time to get yourself into one of the four prestigious Houses at Hogwarts using 'sorting hat'\n",
      "Example: my.sorting_hat()\n",
      " \n"
     ]
    }
   ],
   "source": [
    "my.get_wand() # Buy a magic wand"
   ]
  },
  {
   "cell_type": "code",
   "execution_count": 5,
   "metadata": {},
   "outputs": [
    {
     "name": "stdout",
     "output_type": "stream",
     "text": [
      "you will now be sorted into a hogwarts house. The sorting hat will now sing its song!\n",
      ".........\n",
      "......\n",
      "...\n",
      "Oh you may not think I'm pretty, But don't judge on what you see, I'll eat myself if you can find A smarter hat than me.\n",
      "You can keep your bowlers black, Your top hats sleek and tall, For I'm the Hogwarts Sorting Hat And I can cap them all.\n",
      "There's nothing hidden in your head The Sorting Hat can't see, So try me on and I will tell you Where you ought to be.\n",
      "You might belong in Gryffindor, Where dwell the brave at heart, Their daring, nerve, and chivalry Set Gryffindors apart;\n",
      "You might belong in Hufflepuff, Where they are just and loyal, Those patient Hufflepuffs are true And unafraid of toil;\n",
      "Or yet in wise old Ravenclaw, if you've a ready mind, Where those of wit and learning, Will always find their kind;\n",
      "Or perhaps in Slytherin You'll make your real friends, Those cunning folks use any means To achieve their ends.\n",
      "So put me on! Don't be afraid! And don't get in a flap! You're in safe hands (though I have none) For I'm a Thinking Cap!\n",
      "...\n",
      "......\n",
      ".........\n",
      " \n",
      "Do you wish to choose the House yourself (or) are you okay with random house assignment ?\n",
      "\n"
     ]
    },
    {
     "name": "stdin",
     "output_type": "stream",
     "text": [
      "Enter y to choose your house, or enter any other character if not interested :  y\n"
     ]
    },
    {
     "name": "stdout",
     "output_type": "stream",
     "text": [
      " \n"
     ]
    },
    {
     "name": "stdin",
     "output_type": "stream",
     "text": [
      "Enter one of these characters ( g r h s ) which represent ['Gryffindor', 'Ravenclaw', 'Hufflepuff', 'Slytherin'] :  g\n"
     ]
    },
    {
     "name": "stdout",
     "output_type": "stream",
     "text": [
      " \n",
      "Hello wizard Batman.\n",
      "You are currently assigned to Gryffindor house in Hogwarts magic school.\n",
      "Your best friend is Ginny Weasley.\n",
      "Your magical wand wood type is Red Oak, core is made of Dragon Heart String, and it's length is 10.\n",
      "You currently have 7 Golden Galleons, 1 Silver Sickles, 27 Bronze Knuts.\n",
      "Your house value is Courage, house mascot is Lion, house colors are Maroon and Gold, house ghost is Nearly Headless Nick, house founders relic is Sword of Gryffindor.\n",
      "You have 50 house cup points.\n",
      "Your house quidditch rating is 0.9.\n",
      "You have 100 health points for a fight with Lord Voldemort.\n",
      " \n",
      "You have not learned any spells yet. It's time to go to charms class with Professor Flitwick to learn some magic spells!\n",
      "Example: my.learn_spells()\n",
      " \n"
     ]
    }
   ],
   "source": [
    "my.sorting_hat() # get sorted into a Hogwarts house"
   ]
  },
  {
   "cell_type": "code",
   "execution_count": 6,
   "metadata": {},
   "outputs": [
    {
     "name": "stdout",
     "output_type": "stream",
     "text": [
      "Great! These are the spells you learned.\n",
      "\n",
      "Expelliarmus : disarms your enemy by knocking their want out of their hand.\n",
      "Lumos : Use your wand as a light.\n",
      "Nox : Put out the light on your wand.\n",
      "Protego : Shield charm used whild duelling.\n",
      "Accio : Summons whatever you say after the spell to fly into your hand.\n",
      "Stupefy : Stun your opponent.\n",
      "Wingardium Leviosa : Make things levitate\n",
      "Petrificus Totalus : Temporarily bind and paralyze your opponent.\n",
      "Expecto Patronum : Summons your patronus to repel evil dementors that want to suck out your soul. Should assign an animal to the patronus (eg. wolf, stag, bear, etc.).\n",
      "Reparo : Repair things that are broken.\n",
      " \n",
      "You can learn a special spell that helps you when fighting Lord Voldemort.\n",
      "Wand movements are >>  u : up , d : down , l : left, r : right\n",
      "For example, lrd means left-right-down  &  udr means up-down-right\n",
      "If you prefer to not learn a special spell, enter x at any time to quit learning. A random spell will be used when you fight.\n",
      " \n"
     ]
    },
    {
     "name": "stdin",
     "output_type": "stream",
     "text": [
      "Enter your favorite wand movement pattern. (input x if you do not want to learn a special spell):  lrd\n"
     ]
    },
    {
     "name": "stdout",
     "output_type": "stream",
     "text": [
      "\n",
      "Great! The special spell you learned is lrd\n",
      "Remember to use this when you fight Lord Voldemort\n",
      "\n",
      "Now it's time for some fun!\n",
      "\n",
      "Go for a night crawl (or) Play Quidditch (or) fight Lord Voldemort\n",
      "Examples:\n",
      "my.night_crawl()\n",
      "my.play_quidditch()\n",
      "my.fight_voldemort()\n",
      " \n",
      "You can call the 'my.display()' method at any time to see your current attribute information.\n"
     ]
    }
   ],
   "source": [
    "my.learn_spells() # learn spells and also create a special spell using wand movements"
   ]
  },
  {
   "cell_type": "code",
   "execution_count": 7,
   "metadata": {},
   "outputs": [
    {
     "name": "stdout",
     "output_type": "stream",
     "text": [
      "Hello wizard Batman.\n",
      "You are currently assigned to Gryffindor house in Hogwarts magic school.\n",
      "Your best friend is Ginny Weasley.\n",
      "Your magical wand wood type is Red Oak, core is made of Dragon Heart String, and it's length is 10.\n",
      "You currently have 7 Golden Galleons, 1 Silver Sickles, 27 Bronze Knuts.\n",
      "Your house value is Courage, house mascot is Lion, house colors are Maroon and Gold, house ghost is Nearly Headless Nick, house founders relic is Sword of Gryffindor.\n",
      "You have 50 house cup points.\n",
      "Your house quidditch rating is 0.9.\n",
      "You have 100 health points for a fight with Lord Voldemort.\n",
      " \n",
      "Now it's time for some fun!\n",
      "Go for a night crawl (or) Play Quidditch (or) fight Lord Voldemort\n",
      "Examples:\n",
      "my.night_crawl()\n",
      "my.play_quidditch()\n",
      "my.fight_voldemort()\n",
      " \n"
     ]
    }
   ],
   "source": [
    "my.display() # check the current status of wizard attributes"
   ]
  },
  {
   "cell_type": "code",
   "execution_count": 8,
   "metadata": {},
   "outputs": [
    {
     "name": "stdout",
     "output_type": "stream",
     "text": [
      "You have decided to sneak out of your dormitory and explore the castle after hours. \n",
      "Throughout this adventure, you will have to make some decisions. Hopefully you don't get caught by any professors.\n",
      "\n",
      "Your first decision: Would you like to explore the \"Great Hall\" or the \"Astronomy Tower\"?\n",
      "\n"
     ]
    },
    {
     "name": "stdin",
     "output_type": "stream",
     "text": [
      "For \"Great Hall\" enter \"g\", For \"Astronomy Tower\" enter \"a\": g\n"
     ]
    },
    {
     "name": "stdout",
     "output_type": "stream",
     "text": [
      "\n",
      "Off to the Great Hall!\n",
      "\n"
     ]
    },
    {
     "name": "stdin",
     "output_type": "stream",
     "text": [
      "Press 'Enter' to continue \n"
     ]
    },
    {
     "name": "stdout",
     "output_type": "stream",
     "text": [
      "\n",
      "On your way to the Great Hall. You hear in the distance the janitor, August Filch, calling for his cat, Mrs. Norris.\n",
      "You continue walking and come accross a scroll on the floor.\n",
      "\n"
     ]
    },
    {
     "name": "stdin",
     "output_type": "stream",
     "text": [
      "If you would like to pick up the scroll, input \"y\". If you would like to leave it, input \"n\": y\n"
     ]
    },
    {
     "name": "stdout",
     "output_type": "stream",
     "text": [
      "\n",
      "You picked up the Marauder's Map. It helps you to see where other people are located in the castle. \n",
      "What a great find!\n",
      "\n"
     ]
    },
    {
     "name": "stdin",
     "output_type": "stream",
     "text": [
      "Press 'Enter' to continue \n"
     ]
    },
    {
     "name": "stdout",
     "output_type": "stream",
     "text": [
      "You have arrived at the Great Hall. In the northeast corner of the Great Hall, you hear a 'meow' noise coming from the cabinets.\n",
      "You decide to investigate.\n"
     ]
    },
    {
     "name": "stdin",
     "output_type": "stream",
     "text": [
      "Press 'Enter' to continue \n"
     ]
    },
    {
     "name": "stdout",
     "output_type": "stream",
     "text": [
      "\n",
      "There are 5 cabinets labelled 1, 2, 3, 4, 5.\n",
      "\n"
     ]
    },
    {
     "name": "stdin",
     "output_type": "stream",
     "text": [
      "Which cabinet would you like to unlock? Input a single integer 1, 2, 3, 4, or 5: 1\n"
     ]
    },
    {
     "name": "stdout",
     "output_type": "stream",
     "text": [
      "\n",
      "Nothing in here. Try another cabinet.\n",
      "\n"
     ]
    },
    {
     "name": "stdin",
     "output_type": "stream",
     "text": [
      "Which cabinet would you like to unlock? Input a single integer 1, 2, 3, 4, or 5: 2\n"
     ]
    },
    {
     "name": "stdout",
     "output_type": "stream",
     "text": [
      "\n",
      "Nothing in here. Try another cabinet.\n",
      "\n"
     ]
    },
    {
     "name": "stdin",
     "output_type": "stream",
     "text": [
      "Which cabinet would you like to unlock? Input a single integer 1, 2, 3, 4, or 5: 3\n"
     ]
    },
    {
     "name": "stdout",
     "output_type": "stream",
     "text": [
      "\n",
      "Congratulations! You found Mrs. Norris. Now you should find Mr. Filch to give him the good news.\n",
      "As you search the castle for Mr. Filch, you hear footsteps coming from the other end of the corridor.\n",
      "If only you had a way of finding out who it is...\n"
     ]
    },
    {
     "name": "stdin",
     "output_type": "stream",
     "text": [
      "Press 'Enter' to continue \n"
     ]
    },
    {
     "name": "stdout",
     "output_type": "stream",
     "text": [
      "\n",
      "You remembered that you have the Marauder's Map. \n",
      "You pull it out and see that the person approaching you is Professor McGonagall.\n",
      "You hide behind a suit of armour until she is out of sight.\n",
      "\n"
     ]
    },
    {
     "name": "stdin",
     "output_type": "stream",
     "text": [
      "Press 'Enter' to continue \n"
     ]
    },
    {
     "name": "stdout",
     "output_type": "stream",
     "text": [
      "You then use the map and locate Mr. Filch. He is in the potions classroom. You head over there and return his cat to him.\n",
      "\n"
     ]
    },
    {
     "name": "stdin",
     "output_type": "stream",
     "text": [
      "Press 'Enter' to continue \n"
     ]
    },
    {
     "name": "stdout",
     "output_type": "stream",
     "text": [
      "When you hand him the cat, he happily says,\n",
      "'Thank you Batman, I'm so glad you found Mrs. Norris. I'm awarding 20 house points to your house. What is your house again?'\n",
      " \n",
      "You respond 'It's Gryffindor Sir'.\n",
      "Filch then says, 'Well then, I'm awarding 25 house points to Gryffindor. Now run along to bed'\n",
      "\n"
     ]
    },
    {
     "name": "stdin",
     "output_type": "stream",
     "text": [
      "Press 'Enter' to continue \n"
     ]
    },
    {
     "name": "stdout",
     "output_type": "stream",
     "text": [
      "You make it back to your dormitory with a smile on your face.\n",
      "You can't wait for the morning so you can tell Ginny Weasley and the rest of the house the good news.\n"
     ]
    }
   ],
   "source": [
    "my.night_crawl() # Sneak out and explore castle at night"
   ]
  },
  {
   "cell_type": "code",
   "execution_count": 9,
   "metadata": {},
   "outputs": [
    {
     "name": "stdout",
     "output_type": "stream",
     "text": [
      "\n",
      "Congratulations !!!\n",
      "The chasers for your house (Gryffindor) scored the quaffle by throwing it through the hoops past the opponents keeper.\n",
      "Gryffindor house now has a total of 85 house cup points.\n",
      "\n",
      "Do you want to catch the snitch, which ends the game and awards you 150 bonus house points?\n"
     ]
    },
    {
     "name": "stdin",
     "output_type": "stream",
     "text": [
      "Enter y to catch the snitch, or enter any other character if not interested:  y\n"
     ]
    },
    {
     "name": "stdout",
     "output_type": "stream",
     "text": [
      " \n",
      "There are five doors (1,2,3,4,5) and a snitch is in one of them. Guess where is the snitch, you can only check 2 doors.\n",
      " \n"
     ]
    },
    {
     "name": "stdin",
     "output_type": "stream",
     "text": [
      "Enter the door number : 2\n"
     ]
    },
    {
     "name": "stdout",
     "output_type": "stream",
     "text": [
      "\n",
      "Snitch is not here, try another door. You have one more chance\n",
      "\n"
     ]
    },
    {
     "name": "stdin",
     "output_type": "stream",
     "text": [
      "Enter the door number : 1\n"
     ]
    },
    {
     "name": "stdout",
     "output_type": "stream",
     "text": [
      "\n",
      "Congratulations! You caught the snitch. The game is over and you get 150 bonus points! Gryffindor house now has a total of 235 points.\n",
      " \n",
      "Go for a night crawl (or) Play Quidditch again (or) fight Lord Voldemort\n",
      "Examples:\n",
      "my.night_crawl()\n",
      "my.play_quidditch()\n",
      "my.fight_voldemort()\n",
      "\n",
      "If you would like to find out who won the house cup at the end of the school year, call the method my.house_cup_winner()\n",
      " \n"
     ]
    }
   ],
   "source": [
    "my.play_quidditch() # Play Quidditch games with other Houses"
   ]
  },
  {
   "cell_type": "code",
   "execution_count": 10,
   "metadata": {},
   "outputs": [
    {
     "name": "stdout",
     "output_type": "stream",
     "text": [
      " \n"
     ]
    },
    {
     "name": "stdin",
     "output_type": "stream",
     "text": [
      "Enter the magic wand movement pattern you learned earlier:  lrd\n"
     ]
    },
    {
     "name": "stdout",
     "output_type": "stream",
     "text": [
      "\n",
      "Lord Voldemort's spell was Petrificus Totalus : Temporarily bind and paralyze your opponent..\n",
      "\n",
      "Your spell was Accio : Summons whatever you say after the spell to fly into your hand..\n",
      "you have 80 % energy to cast spells.\n",
      "\n",
      "Keep fighting...\n",
      " \n"
     ]
    },
    {
     "name": "stdin",
     "output_type": "stream",
     "text": [
      "Enter the magic wand movement pattern you learned earlier:  lrd\n"
     ]
    },
    {
     "name": "stdout",
     "output_type": "stream",
     "text": [
      "\n",
      "Lord Voldemort's spell was Protego : Shield charm used whild duelling..\n",
      "\n",
      "Your spell was Protego : Shield charm used whild duelling..\n",
      "*******************************\n",
      "You win! Lord Voldemort is dead.\n",
      "*******************************\n",
      " \n",
      "Go for a night crawl (or) Play Quidditch again (or) fight Lord Voldemort\n",
      "Examples:\n",
      "my.night_crawl()\n",
      "my.play_quidditch()\n",
      "my.fight_voldemort()\n",
      " \n"
     ]
    }
   ],
   "source": [
    "my.fight_voldemort() # fight Lord Voldemort"
   ]
  },
  {
   "cell_type": "code",
   "execution_count": 11,
   "metadata": {},
   "outputs": [
    {
     "name": "stdout",
     "output_type": "stream",
     "text": [
      "Hello wizard Batman.\n",
      "You are currently assigned to Gryffindor house in Hogwarts magic school.\n",
      "Your best friend is Ginny Weasley.\n",
      "Your magical wand wood type is Red Oak, core is made of Dragon Heart String, and it's length is 10.\n",
      "You currently have 7 Golden Galleons, 1 Silver Sickles, 27 Bronze Knuts.\n",
      "Your house value is Courage, house mascot is Lion, house colors are Maroon and Gold, house ghost is Nearly Headless Nick, house founders relic is Sword of Gryffindor.\n",
      "You have 235 house cup points.\n",
      "Your house quidditch rating is 0.9.\n",
      "You have 60 health points for a fight with Lord Voldemort.\n",
      " \n",
      "Now it's time for some fun!\n",
      "Go for a night crawl (or) Play Quidditch (or) fight Lord Voldemort\n",
      "Examples:\n",
      "my.night_crawl()\n",
      "my.play_quidditch()\n",
      "my.fight_voldemort()\n",
      " \n"
     ]
    }
   ],
   "source": [
    "my.display() # check the current status of wizard attributes"
   ]
  },
  {
   "cell_type": "code",
   "execution_count": 12,
   "metadata": {},
   "outputs": [
    {
     "name": "stdout",
     "output_type": "stream",
     "text": [
      "Gryffindor house now has a total of 235 house cup points.\n",
      "\n",
      "Congratulations! Gryffindor won the house cup!\n"
     ]
    }
   ],
   "source": [
    "my.house_cup_winner() # check who won the House cup"
   ]
  },
  {
   "cell_type": "code",
   "execution_count": null,
   "metadata": {},
   "outputs": [],
   "source": []
  }
 ],
 "metadata": {
  "kernelspec": {
   "display_name": "Python 3",
   "language": "python",
   "name": "python3"
  },
  "language_info": {
   "codemirror_mode": {
    "name": "ipython",
    "version": 3
   },
   "file_extension": ".py",
   "mimetype": "text/x-python",
   "name": "python",
   "nbconvert_exporter": "python",
   "pygments_lexer": "ipython3",
   "version": "3.8.3"
  }
 },
 "nbformat": 4,
 "nbformat_minor": 4
}
